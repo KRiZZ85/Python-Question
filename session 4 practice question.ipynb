{
 "cells": [
  {
   "cell_type": "code",
   "execution_count": null,
   "id": "a00f84de-ffa6-4da5-8c21-ace8792332a3",
   "metadata": {},
   "outputs": [],
   "source": [
    "a=int(input(\"No.1:\"))\n",
    "b=int(input(\"No.2:\"))\n",
    "c=int(input(\"No.3:\"))\n",
    "if (a>=b and a>=c):\n",
    "    print(f\"{a} is the greatest no.\")\n",
    "elif (b>=a and b>=c):\n",
    "    print(f\"{b} is the greatest no.\")\n",
    "else:\n",
    "    print(f\"{c} is the greatest no.\")"
   ]
  },
  {
   "cell_type": "code",
   "execution_count": null,
   "id": "c387ff46-9c92-46f5-800d-b90db9f13139",
   "metadata": {},
   "outputs": [],
   "source": [
    "a=int(input(\"No.1:\"))\n",
    "b=int(input(\"No.2:\"))\n",
    "c=int(input(\"No.3:\"))\n",
    "if (a>=b and a<=c) or (a<=b and a>=c):\n",
    "    print(f\"{a} is the second greatest no.\")\n",
    "elif (b>=a and b<=c) (b<=a and b>=c):\n",
    "    print(f\"{b} is the second greatest no.\")\n",
    "else:\n",
    "    print(f\"{c} is the second greatest no.\")"
   ]
  },
  {
   "cell_type": "code",
   "execution_count": null,
   "id": "97c0429e-6c6f-4fa4-8158-c343eabc1ba2",
   "metadata": {},
   "outputs": [],
   "source": [
    "a=int(input(\"No.1:\"))\n",
    "b=int(input(\"No.2:\"))\n",
    "c=int(input(\"No.3:\"))\n",
    "d=int(input(\"No.4:\"))\n",
    "if (a<=b and a<=c and a<=d):\n",
    "    print(f\"{a} is the smallest no.\")\n",
    "elif (b<=a and b<=c and b<=d):\n",
    "    print(f\"{b} is the smallest no.\")\n",
    "elif (c<=a and c<=b and c<=d):\n",
    "    print(f\"{c} is the smallest no.\")\n",
    "else:\n",
    "    print(f\"{d} is the smallest no.\")"
   ]
  },
  {
   "cell_type": "code",
   "execution_count": null,
   "id": "593c2de5-3e46-4988-bb8b-4f5c6c8cebb2",
   "metadata": {},
   "outputs": [],
   "source": [
    "a=int(input(\"Enter number:\"))\n",
    "if a<0:\n",
    "    print(f\"{a} is a negative no.\")a=int(input(\"No.1:\"))\n",
    "b=int(input(\"No.2:\"))\n",
    "c=int(input(\"No.3:\"))\n",
    "d=int(input(\"No.4:\"))\n",
    "if (a<=b and a<=c and a<=d):\n",
    "    print(f\"{a} is the smallest no.\")\n",
    "elif (b<=a and b<=c and b<=d):\n",
    "    print(f\"{b} is the smallest no.\")\n",
    "elif (c<=a and c<=b and c<=d):\n",
    "    print(f\"{c} is the smallest no.\")\n",
    "else:\n",
    "    print(f\"{d} is the smallest no.\")\n",
    "else:\n",
    "    print(f\"{a} is a positive no.\")"
   ]
  },
  {
   "cell_type": "code",
   "execution_count": null,
   "id": "4ba0f4ea-d31d-4187-8b4f-f28140b5372d",
   "metadata": {},
   "outputs": [],
   "source": [
    "a=int(input(\"Enter the year:\"))\n",
    "if (a%400==0) or (a%4==0 and a%100 !=0):\n",
    "    print(f\"{a} is a leap year\")\n",
    "else:\n",
    "    print(f\"{a} is not a leap year\")"
   ]
  },
  {
   "cell_type": "code",
   "execution_count": null,
   "id": "68796bab-bd55-4ba5-82c6-d215c20fd493",
   "metadata": {},
   "outputs": [],
   "source": [
    "import math as m\n",
    "a=int(input(\"enter number:\"))\n",
    "b=m.sqrt(a)\n",
    "if b.is_integer():\n",
    "    print(\"YES\")\n",
    "else:\n",
    "    print(\"NO\")"
   ]
  },
  {
   "cell_type": "code",
   "execution_count": null,
   "id": "967b4cd8-a75f-45d3-bb9a-72f6f19cea16",
   "metadata": {},
   "outputs": [],
   "source": [
    "a=[\"a\",\"e\",\"i\",\"o\",\"u\"]\n",
    "b=input(\"Enter the word: \")\n",
    "if b in a:\n",
    "    print(\"Vowel\")\n",
    "else:\n",
    "    print(\"Constant\")"
   ]
  },
  {
   "cell_type": "code",
   "execution_count": null,
   "id": "f82c2ff3-b9db-42d9-9194-02acde609348",
   "metadata": {},
   "outputs": [],
   "source": [
    "x=int(input(\"X coordinate:\"))\n",
    "y=int(input(\"Y coordinate:\"))\n",
    "if (x<0 and y>0):\n",
    "    print(\"x and y Are in 1st quadrant\")\n",
    "elif (x<0 and y<0):\n",
    "    print(\"x and y Are in 2nd quadrant\")\n",
    "elif (x>0 and y<0):\n",
    "    print(\"x and y Are in 3rd quadrant\")\n",
    "elif (x>0 and y>0):\n",
    "    print(\"x and y are in 4th quadrant\")\n",
    "else:\n",
    "    print(\"Origin\")"
   ]
  }
 ],
 "metadata": {
  "kernelspec": {
   "display_name": "Python 3 (ipykernel)",
   "language": "python",
   "name": "python3"
  },
  "language_info": {
   "codemirror_mode": {
    "name": "ipython",
    "version": 3
   },
   "file_extension": ".py",
   "mimetype": "text/x-python",
   "name": "python",
   "nbconvert_exporter": "python",
   "pygments_lexer": "ipython3",
   "version": "3.11.4"
  }
 },
 "nbformat": 4,
 "nbformat_minor": 5
}
